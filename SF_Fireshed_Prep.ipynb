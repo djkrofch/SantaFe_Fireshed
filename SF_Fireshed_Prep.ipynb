{
 "cells": [
  {
   "cell_type": "markdown",
   "metadata": {},
   "source": [
    "## SF Fireshed Model Prep\n",
    "General framework for establishing the model parameters and inputs that are required by LANDIS-II to achieve the goals and deliverables for this sponsored research. "
   ]
  },
  {
   "cell_type": "markdown",
   "metadata": {},
   "source": [
    "### Load required libraries"
   ]
  },
  {
   "cell_type": "code",
   "execution_count": 22,
   "metadata": {
    "collapsed": false
   },
   "outputs": [],
   "source": [
    "# Load required libraries and establish data directories\n",
    "\n",
    "# ------- Notebook config\n",
    "%matplotlib inline\n",
    "import matplotlib.pyplot as plt\n",
    "import matplotlib\n",
    "\n",
    "# ------- Load dependencies\n",
    "import pandas as pd\n",
    "import numpy as np\n",
    "import seaborn as sns\n",
    "import gdal, os, osr\n",
    "from scipy import stats\n",
    "import random, ast, csv, math\n",
    "\n",
    "# ---- Map dependencies\n",
    "import fiona\n",
    "from shapely.geometry import Point, Polygon, MultiPoint, MultiPolygon\n",
    "from shapely.prepared import prep\n",
    "from descartes import PolygonPatch\n",
    "from itertools import chain\n",
    "from mpl_toolkits.basemap import Basemap\n",
    "from matplotlib.collections import PatchCollection\n",
    "\n",
    "dataDir = 'Z:/Dan K/SFFireshed/'\n",
    "rasterDir = dataDir + 'raster/'\n",
    "shapeDir = dataDir + 'vector/'\n",
    "\n",
    "sns.set_style(\"ticks\")\n",
    "sns.set_context('notebook', font_scale=1.5)"
   ]
  },
  {
   "cell_type": "markdown",
   "metadata": {},
   "source": [
    "### Define temporary functions\n",
    "I am working toward packaging up a set of functions that I commonly use in geospatial modeling frameworks. Those that I still need to edit or bundle up will live here temporarily."
   ]
  },
  {
   "cell_type": "code",
   "execution_count": 23,
   "metadata": {
    "collapsed": true
   },
   "outputs": [],
   "source": [
    "def getShpGeom(shapefile):\n",
    "    shp = fiona.open(shapefile)\n",
    "    bds = shp.bounds\n",
    "    shp.close()\n",
    "    padLON = ((bds[0] - bds[2]) / 2) * 0.05\n",
    "    padLAT = ((bds[1] - bds[3]) / 2) * 0.05\n",
    "    ll = (bds[0] + padLON, bds[1] + padLAT)\n",
    "    ur = (bds[2] - padLON, bds[3] - padLAT)\n",
    "    midlat = (bds[1] + bds[3]) / 2\n",
    "    midlon = (bds[0] + bds[2]) / 2\n",
    "    coords = list(chain(ll, ur))\n",
    "    return coords, midlat, midlon"
   ]
  },
  {
   "cell_type": "markdown",
   "metadata": {},
   "source": [
    "### Define the analysis extent\n",
    "and look at the extent in the context of the greater geographic area. \n",
    "The SF fireshed, as its being modeled here, is roughly 43,000 ha, and contains vegetation types\n",
    "ranging from Pinon-Juniper woodlands at the lower elevations, transitioning to Ponderosa Pine \n",
    "and ultimately, up to mixtures of sub-alpine fir and Engleman Spruce at higher elevations."
   ]
  },
  {
   "cell_type": "code",
   "execution_count": 24,
   "metadata": {
    "collapsed": false
   },
   "outputs": [
    {
     "data": {
      "image/png": "[encoded data removed]",
      "text/plain": [
       "<matplotlib.figure.Figure at 0xc320470>"
      ]
     },
     "metadata": {},
     "output_type": "display_data"
    }
   ],
   "source": [
    "f, (ax1, ax2) = plt.subplots(1,2, figsize = (10,5))\n",
    "sns.set_style('white')\n",
    "sns.despine(left = True, bottom = True)\n",
    "\n",
    "coords, midlat, midlon = getShpGeom(shapeDir + 'NM_NAD83.shp')\n",
    "\n",
    "m = Basemap(llcrnrlon=coords[0],llcrnrlat=coords[1],\n",
    "            urcrnrlon=coords[2],urcrnrlat=coords[3],\n",
    "             resolution='i', projection='tmerc', \n",
    "            lat_0 = midlat, lon_0 = midlon, ax = ax1);\n",
    "\n",
    "m.readshapefile(shapeDir + 'NM_NAD83', 'NewMexico',\n",
    "    color='gray', zorder=5);\n",
    "m.readshapefile(shapeDir + 'GSFCC_Boundary_NAD83', 'SFFireshed',\n",
    "    color='red', zorder=5);\n",
    "\n",
    "m.drawmapscale(\n",
    "    coords[0]+2, coords[1]+1,\n",
    "    coords[0], coords[1],\n",
    "    300.,\n",
    "    barstyle='fancy', \n",
    "    labelstyle='simple',\n",
    "    fillcolor1='w', \n",
    "    fillcolor2='#555555',\n",
    "    fontcolor='#555555',\n",
    "    zorder=1);\n",
    "\n",
    "coords, midlat, midlon = getShpGeom(shapeDir + 'GSFCC_Boundary_NAD83.shp')\n",
    "\n",
    "m1 = Basemap(llcrnrlon=coords[0],llcrnrlat=coords[1],\n",
    "            urcrnrlon=coords[2],urcrnrlat=coords[3],\n",
    "             resolution='i', projection='tmerc', \n",
    "            lat_0 = midlat, lon_0 = midlon, ax = ax2);\n",
    "\n",
    "m1.readshapefile(shapeDir + 'GSFCC_Boundary_NAD83', 'GSFCC',\n",
    "    color='red', zorder=5);\n",
    "\n",
    "m1.drawmapscale(\n",
    "    coords[0] + 0.35, coords[1] + 0.05,\n",
    "    coords[0], coords[1],\n",
    "    10.,\n",
    "    barstyle='fancy', \n",
    "    labelstyle='simple',\n",
    "    fillcolor1='w', \n",
    "    fillcolor2='#555555',\n",
    "    fontcolor='#555555',\n",
    "    zorder=1);\n",
    "\n",
    "ax1.set_title('New Mexico Overview', fontsize = 15)\n",
    "ax2.set_title('Santa Fe Fireshed Boundary', fontsize = 15)\n",
    "plt.tight_layout()\n",
    "plt.savefig('SFFireshed_Analysis_area.tif')"
   ]
  }
 ],
 "metadata": {
  "kernelspec": {
   "display_name": "Python 2",
   "language": "python",
   "name": "python2"
  },
  "language_info": {
   "codemirror_mode": {
    "name": "ipython",
    "version": 2
   },
   "file_extension": ".py",
   "mimetype": "text/x-python",
   "name": "python",
   "nbconvert_exporter": "python",
   "pygments_lexer": "ipython2",
   "version": "2.7.12"
  }
 },
 "nbformat": 4,
 "nbformat_minor": 0
}
